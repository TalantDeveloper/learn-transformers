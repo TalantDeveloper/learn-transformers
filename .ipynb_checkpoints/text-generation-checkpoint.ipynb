{
 "cells": [
  {
   "cell_type": "code",
   "execution_count": 1,
   "id": "c17273a4-e01f-44c9-a7f4-8b3bd7eb992b",
   "metadata": {},
   "outputs": [],
   "source": [
    "from transformers import pipeline"
   ]
  },
  {
   "cell_type": "code",
   "execution_count": 15,
   "id": "331b802d-464e-4ad6-b93b-182fde38cf4e",
   "metadata": {
    "scrolled": true
   },
   "outputs": [
    {
     "name": "stderr",
     "output_type": "stream",
     "text": [
      "No model was supplied, defaulted to openai-community/gpt2 and revision 6c0e608 (https://huggingface.co/openai-community/gpt2).\n",
      "Using a pipeline without specifying a model name and revision in production is not recommended.\n",
      "Setting `pad_token_id` to `eos_token_id`:50256 for open-end generation.\n"
     ]
    },
    {
     "data": {
      "text/plain": [
       "[{'generated_text': 'In this course, we will teach you hoe to hoe, you will learn to use hoe tools to keep your pets safe from fleas, and we will introduce you to the basics of Hoeing Equipment. We will also teach you'}]"
      ]
     },
     "execution_count": 15,
     "metadata": {},
     "output_type": "execute_result"
    }
   ],
   "source": [
    "generator = pipeline('text-generation')\n",
    "generator('In this course, we will teach you hoe to')"
   ]
  },
  {
   "cell_type": "code",
   "execution_count": 17,
   "id": "2c517fc7-c18b-44ba-98fe-82ac7d2f4a9d",
   "metadata": {
    "scrolled": true
   },
   "outputs": [
    {
     "name": "stderr",
     "output_type": "stream",
     "text": [
      "Truncation was not explicitly activated but `max_length` is provided a specific value, please use `truncation=True` to explicitly truncate examples to max length. Defaulting to 'longest_first' truncation strategy. If you encode pairs of sequences (GLUE-style) with the tokenizer you can select this strategy more precisely by providing a specific strategy to `truncation`.\n",
      "Setting `pad_token_id` to `eos_token_id`:50256 for open-end generation.\n"
     ]
    },
    {
     "data": {
      "text/plain": [
       "[{'generated_text': \"In this course, we will teach you how to avoid having fun with your friends. We hope you enjoy this course; please do not hesitate to check out all the tutorials at http://d.d.co/FjZ3pQd — Mark Twain (@marklethrush) November 5, 2013\\n\\n\\nThe world's largest newspaper is about to close today. That's when a new article published by the prestigious New York Times called for the publication to stop publishing.\\n\\n\\n@MarkLofgren: As for the Times of America, it goes out on an online forum, I've already wrote about how it would take some time to sort out the details of the new paper. And it hasn't happened, I guess, since the New York Times first started publishing the article.\\nYou might have thought this might be the new thing that comes out of the world. But I don't think it's the new news that's coming out of the world. You probably haven't heard of what's going on in the world, but what a really amazing moment it's been coming.\\nWhen the Times was founded by New York City Mayor Bill de Blasio in 2007, I never thought about a new publication. I've been a lifelong New Yorker of newspapers, and I would never have thought of being in the New York Times, but I never thought of being living in the United States. I can't believe that it would ever get done.\\nIt's kind of a strange thing. In the 1980s and early 1990s and '90s, reporters began to come up and begin to write about the New York Times. By then there was only a handful of newspapers in the United States, with a total loss of 819 outlets in the United States. That was a small percentage of the press in the country because of the New York Times or any other newspaper in the country. This was just part of the problem that made the whole of the country as unfulfilled as ever.\\nSo what did that mean for newspaper readers?\\nThis sort of world of newspaper doesn't look so much like its neighbor in the United States. The new world of paper is different by a million different aspects. The new world of paper is unique by a few key points.\\nThe New York Times was not meant to be a newspaper. It wasn't even meant to be a book as it was meant to be a magazine. We were meant to be a newspaper\"},\n",
       " {'generated_text': 'In this course, we will teach you how to build yourself an energy-efficient energy efficient energy efficient energy efficient energy efficient, and you will start planning your new energy storage plans, plan your new generation plans, and follow your steps toward your energy budget this October.'}]"
      ]
     },
     "execution_count": 17,
     "metadata": {},
     "output_type": "execute_result"
    }
   ],
   "source": [
    "generator = pipeline(\"text-generation\", model=\"distilgpt2\")\n",
    "\n",
    "generator(\"In this course, we will teach you how to\", max_length=500, num_return_sequences=2,)"
   ]
  }
 ],
 "metadata": {
  "kernelspec": {
   "display_name": "Python 3 (ipykernel)",
   "language": "python",
   "name": "python3"
  },
  "language_info": {
   "codemirror_mode": {
    "name": "ipython",
    "version": 3
   },
   "file_extension": ".py",
   "mimetype": "text/x-python",
   "name": "python",
   "nbconvert_exporter": "python",
   "pygments_lexer": "ipython3",
   "version": "3.10.11"
  }
 },
 "nbformat": 4,
 "nbformat_minor": 5
}
